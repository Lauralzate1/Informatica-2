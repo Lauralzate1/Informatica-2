{
 "cells": [
  {
   "cell_type": "markdown",
   "metadata": {},
   "source": [
    "SISTEMA DE GESTION DE VUELOS"
   ]
  },
  {
   "cell_type": "code",
   "execution_count": 18,
   "metadata": {},
   "outputs": [],
   "source": [
    "class Pasajero:\n",
    "    def __init__(self,nombre,apellido,edad, pasaporte):\n",
    "       self.nombre = nombre\n",
    "       self.apellido = apellido\n",
    "       self.edad = edad\n",
    "       self._pasaporte = pasaporte\n",
    "       \n",
    "    def mostrarInformacion(self):\n",
    "        print(f\"El pasajero es: {self.nombre} {self.apellido}\")"
   ]
  },
  {
   "cell_type": "code",
   "execution_count": 19,
   "metadata": {},
   "outputs": [],
   "source": [
    "pasajero1 = Pasajero(\"Laura\",\"Alzate\",19,\"PA43421\")"
   ]
  },
  {
   "cell_type": "code",
   "execution_count": 20,
   "metadata": {},
   "outputs": [
    {
     "name": "stdout",
     "output_type": "stream",
     "text": [
      "El pasajero es: Laura Alzate\n"
     ]
    }
   ],
   "source": [
    "pasajero1.mostrarInformacion()"
   ]
  },
  {
   "cell_type": "code",
   "execution_count": 22,
   "metadata": {},
   "outputs": [],
   "source": [
    "class Vuelos:\n",
    "    def __init__(self,numero, origen, destino, capacidadTotal):\n",
    "        self.numeroVuelo = numero\n",
    "        self._origen = origen\n",
    "        self._destino = destino\n",
    "        self.capacidadTotal = capacidadTotal\n",
    "        self.asientosDisponibles = capacidadTotal\n",
    "        self.reservas = []\n",
    "        #No olvidar dependencia\n",
    "        \n",
    "    def mostrarInformacion(self):\n",
    "        print(f\"\"\"\n",
    "              El número de vuelo es:{self.numeroVuelo}\n",
    "              El vuelo va desde {self._origen} hasta {self._destino}\n",
    "              Tiene {self.asientosDisponibles} asientos disponibles de {self.capacidadTotal}\n",
    "              \"\"\")\n",
    "    def reservaAsiento(self,pasajero): #Relacion de asociacion\n",
    "        if pasajero in self.reservas:\n",
    "            print(f\"El usuario {pasajero.nombre} ya tiene una reserva en ese vuelo\")\n",
    "        elif self.asientosDisponibles > 0:\n",
    "            self.reservas.append(pasajero)\n",
    "            self.asientosDisponibles -= 1\n",
    "            print(f\"El usuario {pasajero.nombre} realizó una reserva\")\n",
    "        else: print(\"No hay asientos disponibles\")\n",
    "            \n",
    "    def cancelarReservas(self,pasajero):\n",
    "        if pasajero in self.reservas:\n",
    "            self.reservas.remove(pasajero)\n",
    "            self.asientosDisponibles += 1\n",
    "            print(f\"Señor(a): {pasajero.nombre}. Se ha cancelado su reserva de manera exitosa\")\n",
    "        else:\n",
    "            print(f\"El pasajero {pasajero.nombre} aún no ha reservado\")"
   ]
  },
  {
   "cell_type": "code",
   "execution_count": 23,
   "metadata": {},
   "outputs": [],
   "source": [
    "vuelo1=Vuelos(\"HK123\",\"Medellin\",\"Cartagena\",80)"
   ]
  },
  {
   "cell_type": "code",
   "execution_count": 28,
   "metadata": {},
   "outputs": [
    {
     "name": "stdout",
     "output_type": "stream",
     "text": [
      "El número de vuelo es:HK123\n",
      "              El vuelo va desde Medellin hasta Cartagena\n",
      "              Tiene 79 asientos disponibles de 80\n"
     ]
    }
   ],
   "source": [
    "vuelo1.mostrarInformacion()"
   ]
  },
  {
   "cell_type": "code",
   "execution_count": 27,
   "metadata": {},
   "outputs": [
    {
     "name": "stdout",
     "output_type": "stream",
     "text": [
      "El usuario Laura ya tiene una reserva en ese vuelo\n"
     ]
    }
   ],
   "source": [
    "vuelo1.reservaAsiento(pasajero1)"
   ]
  }
 ],
 "metadata": {
  "kernelspec": {
   "display_name": "base",
   "language": "python",
   "name": "python3"
  },
  "language_info": {
   "codemirror_mode": {
    "name": "ipython",
    "version": 3
   },
   "file_extension": ".py",
   "mimetype": "text/x-python",
   "name": "python",
   "nbconvert_exporter": "python",
   "pygments_lexer": "ipython3",
   "version": "3.9.13"
  }
 },
 "nbformat": 4,
 "nbformat_minor": 2
}
